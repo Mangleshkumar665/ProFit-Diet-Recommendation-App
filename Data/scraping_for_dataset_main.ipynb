{
 "cells": [
  {
   "cell_type": "code",
   "execution_count": 1,
   "id": "0a448cf9",
   "metadata": {},
   "outputs": [],
   "source": [
    "import requests\n",
    "from bs4 import BeautifulSoup\n",
    "import pandas as pd"
   ]
  },
  {
   "cell_type": "code",
   "execution_count": 18,
   "id": "2ca7bd2c",
   "metadata": {},
   "outputs": [],
   "source": [
    "def get_page():\n",
    "    docs = []\n",
    "    for i in range(1, 3):\n",
    "        url = 'https://www.eatthismuch.com/food/browse/?q=indian&type=branded&page=' + str(i) + '&show_nutrient=fiber&nutrition_display=serving_'\n",
    "        response = requests.get(url)\n",
    "        if response.status_code != 200:\n",
    "            print('Status code:', response.status_code)\n",
    "            raise Exception('Failed to fetch web page ' + url)\n",
    "        doc = BeautifulSoup(response.text)\n",
    "        docs.append(doc)\n",
    "    \n",
    "    return docs"
   ]
  },
  {
   "cell_type": "code",
   "execution_count": 3,
   "id": "f89882f9",
   "metadata": {},
   "outputs": [],
   "source": [
    "def process_it(samp):\n",
    "    for i in range(len(samp)):\n",
    "        samp[i] = samp[i].replace(' ', '')\n",
    "        samp[i] = samp[i].replace('g', '')\n",
    "        if '\\n' in samp[i]:\n",
    "            samp[i] = samp[i].replace('\\n', '')\n",
    "    return samp"
   ]
  },
  {
   "cell_type": "code",
   "execution_count": 5,
   "id": "73fa9510",
   "metadata": {},
   "outputs": [],
   "source": [
    "def get_df(docs):\n",
    "    food_names = []\n",
    "    calories = []\n",
    "    Carbs = []\n",
    "    fats = []\n",
    "    proteins = []\n",
    "    fibers = []\n",
    "    \n",
    "    for doc in docs:\n",
    "        food = doc.find_all('div', {'class': 'result_name col-3'})\n",
    "        cal = doc.find_all('div', {'class': 'col-2 offset-1 nutrient_cell'})\n",
    "        nutri = doc.find_all('div', {'class': 'col-2 nutrient_cell'})\n",
    "        carbs = nutri[::3]\n",
    "        fat = nutri[1::3]\n",
    "        protein = nutri[2::3]\n",
    "        fiber = doc.find_all('div', {'class': 'col-3 nutrient_cell'})\n",
    "        \n",
    "        for i in food:\n",
    "            food_names.append(i.text.strip())\n",
    "            \n",
    "        for i in cal:\n",
    "            calories.append(i.text.strip())\n",
    "            \n",
    "        for i in carbs:\n",
    "            Carbs.append(i.text.strip())\n",
    "            Carbs = process_it(Carbs)\n",
    "            \n",
    "        for i in fat:\n",
    "            fats.append(i.text.strip())\n",
    "            fats = process_it(fats)\n",
    "            \n",
    "        for i in protein:\n",
    "            proteins.append(i.text.strip())\n",
    "            proteins = process_it(proteins)\n",
    "            \n",
    "        for i in fiber:\n",
    "            fibers.append(i.text.strip())\n",
    "            fibers = process_it(fibers)\n",
    "        \n",
    "    food_df = pd.DataFrame({'Name': food_names\n",
    "                            , 'Calories': calories\n",
    "                            , 'Carbs': Carbs\n",
    "                            , 'Fats': fats\n",
    "                            , 'Proteins': proteins\n",
    "                            , 'Fiber': fibers})\n",
    "        \n",
    "    return food_df"
   ]
  },
  {
   "cell_type": "code",
   "execution_count": 14,
   "id": "b8d67198",
   "metadata": {},
   "outputs": [],
   "source": [
    "pages = get_page()"
   ]
  },
  {
   "cell_type": "code",
   "execution_count": 15,
   "id": "c855aaf2",
   "metadata": {},
   "outputs": [
    {
     "data": {
      "text/plain": [
       "16"
      ]
     },
     "execution_count": 15,
     "metadata": {},
     "output_type": "execute_result"
    }
   ],
   "source": [
    "len(pages)"
   ]
  },
  {
   "cell_type": "code",
   "execution_count": 16,
   "id": "5dc1af91",
   "metadata": {},
   "outputs": [],
   "source": [
    "df1 = get_df(pages)"
   ]
  },
  {
   "cell_type": "code",
   "execution_count": 17,
   "id": "555a99ab",
   "metadata": {},
   "outputs": [
    {
     "data": {
      "text/plain": [
       "313"
      ]
     },
     "execution_count": 17,
     "metadata": {},
     "output_type": "execute_result"
    }
   ],
   "source": [
    "len(df1)"
   ]
  },
  {
   "cell_type": "markdown",
   "id": "78a57110",
   "metadata": {},
   "source": [
    "### For restaurant section"
   ]
  },
  {
   "cell_type": "code",
   "execution_count": 25,
   "id": "b2bc2a13",
   "metadata": {},
   "outputs": [],
   "source": [
    "def get_res_page():\n",
    "    docs = []\n",
    "    for i in range(1, 3):\n",
    "        url = 'https://www.eatthismuch.com/food/browse/?q=indian&type=restaurant&page=' + str(i) + '&show_nutrient=fiber&nutrition_display=serving_'\n",
    "        response = requests.get(url)\n",
    "        if response.status_code != 200:\n",
    "            print('Status code:', response.status_code)\n",
    "            raise Exception('Failed to fetch web page ' + url)\n",
    "        doc = BeautifulSoup(response.text)\n",
    "        docs.append(doc)\n",
    "    \n",
    "    return docs"
   ]
  },
  {
   "cell_type": "code",
   "execution_count": 26,
   "id": "e287df4a",
   "metadata": {},
   "outputs": [],
   "source": [
    "p = get_res_page()"
   ]
  },
  {
   "cell_type": "code",
   "execution_count": 27,
   "id": "f4f7b9c8",
   "metadata": {},
   "outputs": [],
   "source": [
    "dfr = get_df(pages)"
   ]
  },
  {
   "cell_type": "code",
   "execution_count": 28,
   "id": "e754c8ab",
   "metadata": {},
   "outputs": [
    {
     "data": {
      "text/html": [
       "<div>\n",
       "<style scoped>\n",
       "    .dataframe tbody tr th:only-of-type {\n",
       "        vertical-align: middle;\n",
       "    }\n",
       "\n",
       "    .dataframe tbody tr th {\n",
       "        vertical-align: top;\n",
       "    }\n",
       "\n",
       "    .dataframe thead th {\n",
       "        text-align: right;\n",
       "    }\n",
       "</style>\n",
       "<table border=\"1\" class=\"dataframe\">\n",
       "  <thead>\n",
       "    <tr style=\"text-align: right;\">\n",
       "      <th></th>\n",
       "      <th>Name</th>\n",
       "      <th>Calories</th>\n",
       "      <th>Carbs</th>\n",
       "      <th>Fats</th>\n",
       "      <th>Proteins</th>\n",
       "      <th>Fiber</th>\n",
       "    </tr>\n",
       "  </thead>\n",
       "  <tbody>\n",
       "    <tr>\n",
       "      <th>0</th>\n",
       "      <td>Butter Chicken, Indian Stylee, Frozen</td>\n",
       "      <td>280</td>\n",
       "      <td>43.0</td>\n",
       "      <td>4.5</td>\n",
       "      <td>17</td>\n",
       "      <td>2</td>\n",
       "    </tr>\n",
       "    <tr>\n",
       "      <th>1</th>\n",
       "      <td>Indian Cuisine, Punjab Potatoes</td>\n",
       "      <td>121</td>\n",
       "      <td>16</td>\n",
       "      <td>5</td>\n",
       "      <td>4</td>\n",
       "      <td>5</td>\n",
       "    </tr>\n",
       "    <tr>\n",
       "      <th>2</th>\n",
       "      <td>Fit Popcorn Chips, Spinach Feta</td>\n",
       "      <td>130</td>\n",
       "      <td>19.0</td>\n",
       "      <td>5.0</td>\n",
       "      <td>2</td>\n",
       "      <td>1</td>\n",
       "    </tr>\n",
       "    <tr>\n",
       "      <th>3</th>\n",
       "      <td>Aged White Cheddar Popcorn</td>\n",
       "      <td>150</td>\n",
       "      <td>14.0</td>\n",
       "      <td>9.0</td>\n",
       "      <td>2</td>\n",
       "      <td>2</td>\n",
       "    </tr>\n",
       "    <tr>\n",
       "      <th>4</th>\n",
       "      <td>Indian Snacks, Boondi, Chick Peas Balls</td>\n",
       "      <td>290</td>\n",
       "      <td>22</td>\n",
       "      <td>20</td>\n",
       "      <td>6</td>\n",
       "      <td>1</td>\n",
       "    </tr>\n",
       "  </tbody>\n",
       "</table>\n",
       "</div>"
      ],
      "text/plain": [
       "                                      Name Calories Carbs Fats Proteins Fiber\n",
       "0    Butter Chicken, Indian Stylee, Frozen      280  43.0  4.5       17     2\n",
       "1          Indian Cuisine, Punjab Potatoes      121    16    5        4     5\n",
       "2          Fit Popcorn Chips, Spinach Feta      130  19.0  5.0        2     1\n",
       "3               Aged White Cheddar Popcorn      150  14.0  9.0        2     2\n",
       "4  Indian Snacks, Boondi, Chick Peas Balls      290    22   20        6     1"
      ]
     },
     "execution_count": 28,
     "metadata": {},
     "output_type": "execute_result"
    }
   ],
   "source": [
    "dfr.head()"
   ]
  },
  {
   "cell_type": "code",
   "execution_count": null,
   "id": "43b60725",
   "metadata": {},
   "outputs": [],
   "source": []
  }
 ],
 "metadata": {
  "kernelspec": {
   "display_name": "Python 3 (ipykernel)",
   "language": "python",
   "name": "python3"
  },
  "language_info": {
   "codemirror_mode": {
    "name": "ipython",
    "version": 3
   },
   "file_extension": ".py",
   "mimetype": "text/x-python",
   "name": "python",
   "nbconvert_exporter": "python",
   "pygments_lexer": "ipython3",
   "version": "3.9.13"
  }
 },
 "nbformat": 4,
 "nbformat_minor": 5
}
