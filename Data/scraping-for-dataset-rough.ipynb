{
 "cells": [
  {
   "cell_type": "code",
   "execution_count": 1,
   "id": "e0dfd719",
   "metadata": {},
   "outputs": [],
   "source": [
    "import requests\n",
    "from bs4 import BeautifulSoup"
   ]
  },
  {
   "cell_type": "code",
   "execution_count": 2,
   "id": "b81a4989",
   "metadata": {},
   "outputs": [],
   "source": [
    "url = 'https://www.eatthismuch.com/food/browse/?q=indian&type=branded&nutrition_display=serving_'"
   ]
  },
  {
   "cell_type": "code",
   "execution_count": 3,
   "id": "fb06e565",
   "metadata": {},
   "outputs": [],
   "source": [
    "response = requests.get(url)"
   ]
  },
  {
   "cell_type": "code",
   "execution_count": 4,
   "id": "c23660a4",
   "metadata": {},
   "outputs": [
    {
     "data": {
      "text/plain": [
       "200"
      ]
     },
     "execution_count": 4,
     "metadata": {},
     "output_type": "execute_result"
    }
   ],
   "source": [
    "response.status_code"
   ]
  },
  {
   "cell_type": "code",
   "execution_count": 5,
   "id": "e2cd2304",
   "metadata": {},
   "outputs": [
    {
     "data": {
      "text/plain": [
       "374594"
      ]
     },
     "execution_count": 5,
     "metadata": {},
     "output_type": "execute_result"
    }
   ],
   "source": [
    "contents = response.text\n",
    "len(contents)"
   ]
  },
  {
   "cell_type": "code",
   "execution_count": 6,
   "id": "1f760933",
   "metadata": {
    "scrolled": true
   },
   "outputs": [
    {
     "data": {
      "text/plain": [
       "'<!DOCTYPE html>\\n<html lang=\"en\">\\n<head>\\n\\n    <meta charset=\"utf-8\">\\n    <title>\\n    \\n        Food and Recipe browser\\n    \\n - Eat This Much</title>\\n\\n    \\n\\n    \\n        <meta name=\"description\"\\n              content=\"Eat This Much automatically creates custom meal plans for your diet goals.\\n          Perfect for weight loss, bodybuilding, Vegan, Paleo, Atkins and more!\">\\n    \\n\\n\\n    \\n\\n\\n    <meta name=\"author\" content=\"Eat This Much, Inc.\">\\n\\n    \\n        <meta name=\"apple-itunes-app\" content=\"app-id=981637806\"/>\\n        <meta name=\"google-play-app\" content=\"app-id=com.eatthismuch\">\\n    \\n\\n\\n    <meta name=\"viewport\" content=\"width=device-width, initial-scale=1\"/>\\n\\n    \\n\\n    \\n    <meta name=\"facebook-domain-verification\" content=\"90c0tp8wt2dibwilp2yh04zjhngako\"/>\\n    <!-- handle the og:url in the canonical url block -->\\n    <meta property=\"og:image\" content=\"https://www.eatthismuch.com/static_files/images/peach_etm_logo.png\">\\n\\n\\n    <meta property=\"og:title\" content=\"Eat This Much, your person'"
      ]
     },
     "execution_count": 6,
     "metadata": {},
     "output_type": "execute_result"
    }
   ],
   "source": [
    "contents[:1000]"
   ]
  },
  {
   "cell_type": "code",
   "execution_count": 6,
   "id": "47c3c132",
   "metadata": {},
   "outputs": [],
   "source": [
    "doc = BeautifulSoup(contents, 'html.parser')"
   ]
  },
  {
   "cell_type": "code",
   "execution_count": 9,
   "id": "0effb147",
   "metadata": {},
   "outputs": [],
   "source": [
    "food = doc.find_all('div', {'class': 'result_name col-3'})"
   ]
  },
  {
   "cell_type": "code",
   "execution_count": 10,
   "id": "5ed4cbc3",
   "metadata": {},
   "outputs": [
    {
     "data": {
      "text/plain": [
       "20"
      ]
     },
     "execution_count": 10,
     "metadata": {},
     "output_type": "execute_result"
    }
   ],
   "source": [
    "len(food)"
   ]
  },
  {
   "cell_type": "code",
   "execution_count": 11,
   "id": "6016506f",
   "metadata": {},
   "outputs": [
    {
     "data": {
      "text/plain": [
       "[<div class=\"result_name col-3\">\n",
       "                                             Indianlife, Chevdo\n",
       "                                             \n",
       "                                         </div>,\n",
       " <div class=\"result_name col-3\">\n",
       "                                             Naan\n",
       "                                             \n",
       "                                         </div>,\n",
       " <div class=\"result_name col-3\">\n",
       "                                             Papadums\n",
       "                                             \n",
       "                                         </div>,\n",
       " <div class=\"result_name col-3\">\n",
       "                                             Indianlife, Channadal\n",
       "                                             \n",
       "                                         </div>,\n",
       " <div class=\"result_name col-3\">\n",
       "                                             Indianlife, Garlic Naan\n",
       "                                             \n",
       "                                         </div>]"
      ]
     },
     "execution_count": 11,
     "metadata": {},
     "output_type": "execute_result"
    }
   ],
   "source": [
    "food[:5]"
   ]
  },
  {
   "cell_type": "code",
   "execution_count": 40,
   "id": "465f0799",
   "metadata": {},
   "outputs": [
    {
     "data": {
      "text/plain": [
       "'\\n                                            Indianlife, Chevdo\\n                                            \\n                                        '"
      ]
     },
     "execution_count": 40,
     "metadata": {},
     "output_type": "execute_result"
    }
   ],
   "source": [
    "food[0].text"
   ]
  },
  {
   "cell_type": "code",
   "execution_count": 12,
   "id": "1bf50c47",
   "metadata": {},
   "outputs": [
    {
     "data": {
      "text/plain": [
       "20"
      ]
     },
     "execution_count": 12,
     "metadata": {},
     "output_type": "execute_result"
    }
   ],
   "source": [
    "cal = doc.find_all('div', {'class': 'col-2 offset-1 nutrient_cell'})\n",
    "len(cal)"
   ]
  },
  {
   "cell_type": "code",
   "execution_count": 13,
   "id": "063310ce",
   "metadata": {},
   "outputs": [
    {
     "data": {
      "text/plain": [
       "[<div class=\"col-2 offset-1 nutrient_cell\">\n",
       "                                                     \n",
       "                                                         140\n",
       "                                                     \n",
       "                                                 </div>,\n",
       " <div class=\"col-2 offset-1 nutrient_cell\">\n",
       "                                                     \n",
       "                                                         160\n",
       "                                                     \n",
       "                                                 </div>,\n",
       " <div class=\"col-2 offset-1 nutrient_cell\">\n",
       "                                                     \n",
       "                                                         25\n",
       "                                                     \n",
       "                                                 </div>,\n",
       " <div class=\"col-2 offset-1 nutrient_cell\">\n",
       "                                                     \n",
       "                                                         150\n",
       "                                                     \n",
       "                                                 </div>,\n",
       " <div class=\"col-2 offset-1 nutrient_cell\">\n",
       "                                                     \n",
       "                                                         270\n",
       "                                                     \n",
       "                                                 </div>]"
      ]
     },
     "execution_count": 13,
     "metadata": {},
     "output_type": "execute_result"
    }
   ],
   "source": [
    "cal[:5]"
   ]
  },
  {
   "cell_type": "code",
   "execution_count": 15,
   "id": "0ac52c33",
   "metadata": {
    "scrolled": true
   },
   "outputs": [
    {
     "data": {
      "text/plain": [
       "60"
      ]
     },
     "execution_count": 15,
     "metadata": {},
     "output_type": "execute_result"
    }
   ],
   "source": [
    "nutri = doc.find_all('div', {'class': 'col-2 nutrient_cell'})\n",
    "len(nutri)"
   ]
  },
  {
   "cell_type": "code",
   "execution_count": 16,
   "id": "985c2a80",
   "metadata": {},
   "outputs": [
    {
     "data": {
      "text/plain": [
       "[<div class=\"col-2 nutrient_cell\">\n",
       "                                                     \n",
       "                                                         12.0\n",
       "                                                         g\n",
       "                                                     \n",
       "                                                 </div>,\n",
       " <div class=\"col-2 nutrient_cell\">\n",
       "                                                     \n",
       "                                                         9.0\n",
       "                                                         g\n",
       "                                                     \n",
       "                                                 </div>,\n",
       " <div class=\"col-2 nutrient_cell\">\n",
       "                                                     \n",
       "                                                         4.0\n",
       "                                                         g\n",
       "                                                     \n",
       "                                                 </div>,\n",
       " <div class=\"col-2 nutrient_cell\">\n",
       "                                                     \n",
       "                                                         24\n",
       "                                                         g\n",
       "                                                     \n",
       "                                                 </div>,\n",
       " <div class=\"col-2 nutrient_cell\">\n",
       "                                                     \n",
       "                                                         4.5\n",
       "                                                         g\n",
       "                                                     \n",
       "                                                 </div>,\n",
       " <div class=\"col-2 nutrient_cell\">\n",
       "                                                     \n",
       "                                                         4\n",
       "                                                         g\n",
       "                                                     \n",
       "                                                 </div>,\n",
       " <div class=\"col-2 nutrient_cell\">\n",
       "                                                     \n",
       "                                                         4\n",
       "                                                         g\n",
       "                                                     \n",
       "                                                 </div>,\n",
       " <div class=\"col-2 nutrient_cell\">\n",
       "                                                     \n",
       "                                                         0\n",
       "                                                         g\n",
       "                                                     \n",
       "                                                 </div>,\n",
       " <div class=\"col-2 nutrient_cell\">\n",
       "                                                     \n",
       "                                                         2\n",
       "                                                         g\n",
       "                                                     \n",
       "                                                 </div>,\n",
       " <div class=\"col-2 nutrient_cell\">\n",
       "                                                     \n",
       "                                                         11.0\n",
       "                                                         g\n",
       "                                                     \n",
       "                                                 </div>]"
      ]
     },
     "execution_count": 16,
     "metadata": {},
     "output_type": "execute_result"
    }
   ],
   "source": [
    "nutri[:10]"
   ]
  },
  {
   "cell_type": "code",
   "execution_count": 20,
   "id": "f4536bd0",
   "metadata": {},
   "outputs": [
    {
     "data": {
      "text/plain": [
       "20"
      ]
     },
     "execution_count": 20,
     "metadata": {},
     "output_type": "execute_result"
    }
   ],
   "source": [
    "carbs = nutri[::3]\n",
    "len(carbs)"
   ]
  },
  {
   "cell_type": "code",
   "execution_count": 21,
   "id": "7158b45b",
   "metadata": {},
   "outputs": [
    {
     "data": {
      "text/plain": [
       "[<div class=\"col-2 nutrient_cell\">\n",
       "                                                     \n",
       "                                                         12.0\n",
       "                                                         g\n",
       "                                                     \n",
       "                                                 </div>,\n",
       " <div class=\"col-2 nutrient_cell\">\n",
       "                                                     \n",
       "                                                         24\n",
       "                                                         g\n",
       "                                                     \n",
       "                                                 </div>,\n",
       " <div class=\"col-2 nutrient_cell\">\n",
       "                                                     \n",
       "                                                         4\n",
       "                                                         g\n",
       "                                                     \n",
       "                                                 </div>,\n",
       " <div class=\"col-2 nutrient_cell\">\n",
       "                                                     \n",
       "                                                         11.0\n",
       "                                                         g\n",
       "                                                     \n",
       "                                                 </div>,\n",
       " <div class=\"col-2 nutrient_cell\">\n",
       "                                                     \n",
       "                                                         49\n",
       "                                                         g\n",
       "                                                     \n",
       "                                                 </div>]"
      ]
     },
     "execution_count": 21,
     "metadata": {},
     "output_type": "execute_result"
    }
   ],
   "source": [
    "carbs[:5]"
   ]
  },
  {
   "cell_type": "code",
   "execution_count": 22,
   "id": "b4b38379",
   "metadata": {},
   "outputs": [
    {
     "data": {
      "text/plain": [
       "20"
      ]
     },
     "execution_count": 22,
     "metadata": {},
     "output_type": "execute_result"
    }
   ],
   "source": [
    "fat = nutri[1::3]\n",
    "len(fat)"
   ]
  },
  {
   "cell_type": "code",
   "execution_count": 23,
   "id": "60d4c1a9",
   "metadata": {},
   "outputs": [
    {
     "data": {
      "text/plain": [
       "[<div class=\"col-2 nutrient_cell\">\n",
       "                                                     \n",
       "                                                         9.0\n",
       "                                                         g\n",
       "                                                     \n",
       "                                                 </div>,\n",
       " <div class=\"col-2 nutrient_cell\">\n",
       "                                                     \n",
       "                                                         4.5\n",
       "                                                         g\n",
       "                                                     \n",
       "                                                 </div>,\n",
       " <div class=\"col-2 nutrient_cell\">\n",
       "                                                     \n",
       "                                                         0\n",
       "                                                         g\n",
       "                                                     \n",
       "                                                 </div>,\n",
       " <div class=\"col-2 nutrient_cell\">\n",
       "                                                     \n",
       "                                                         11.0\n",
       "                                                         g\n",
       "                                                     \n",
       "                                                 </div>,\n",
       " <div class=\"col-2 nutrient_cell\">\n",
       "                                                     \n",
       "                                                         6\n",
       "                                                         g\n",
       "                                                     \n",
       "                                                 </div>]"
      ]
     },
     "execution_count": 23,
     "metadata": {},
     "output_type": "execute_result"
    }
   ],
   "source": [
    "fat[:5]"
   ]
  },
  {
   "cell_type": "code",
   "execution_count": 24,
   "id": "7a853ef4",
   "metadata": {},
   "outputs": [
    {
     "data": {
      "text/plain": [
       "20"
      ]
     },
     "execution_count": 24,
     "metadata": {},
     "output_type": "execute_result"
    }
   ],
   "source": [
    "protein = nutri[2::3]\n",
    "len(protein)"
   ]
  },
  {
   "cell_type": "code",
   "execution_count": 25,
   "id": "58aa7a85",
   "metadata": {},
   "outputs": [
    {
     "data": {
      "text/plain": [
       "[<div class=\"col-2 nutrient_cell\">\n",
       "                                                     \n",
       "                                                         4.0\n",
       "                                                         g\n",
       "                                                     \n",
       "                                                 </div>,\n",
       " <div class=\"col-2 nutrient_cell\">\n",
       "                                                     \n",
       "                                                         4\n",
       "                                                         g\n",
       "                                                     \n",
       "                                                 </div>,\n",
       " <div class=\"col-2 nutrient_cell\">\n",
       "                                                     \n",
       "                                                         2\n",
       "                                                         g\n",
       "                                                     \n",
       "                                                 </div>,\n",
       " <div class=\"col-2 nutrient_cell\">\n",
       "                                                     \n",
       "                                                         4.0\n",
       "                                                         g\n",
       "                                                     \n",
       "                                                 </div>,\n",
       " <div class=\"col-2 nutrient_cell\">\n",
       "                                                     \n",
       "                                                         7\n",
       "                                                         g\n",
       "                                                     \n",
       "                                                 </div>]"
      ]
     },
     "execution_count": 25,
     "metadata": {},
     "output_type": "execute_result"
    }
   ],
   "source": [
    "protein[:5]"
   ]
  },
  {
   "cell_type": "code",
   "execution_count": 7,
   "id": "9b06ee3a",
   "metadata": {},
   "outputs": [
    {
     "data": {
      "text/plain": [
       "20"
      ]
     },
     "execution_count": 7,
     "metadata": {},
     "output_type": "execute_result"
    }
   ],
   "source": [
    "fiber = doc.find_all('div', {'class': 'col-3 nutrient_cell'})\n",
    "len(fiber)"
   ]
  },
  {
   "cell_type": "code",
   "execution_count": 8,
   "id": "13081c6d",
   "metadata": {
    "scrolled": true
   },
   "outputs": [
    {
     "data": {
      "text/plain": [
       "[<div class=\"col-3 nutrient_cell\">\n",
       "                                                     \n",
       "                                                         \n",
       "                                                             2.0\n",
       "                                                             g\n",
       "                                                         \n",
       "                                                     \n",
       "                                                 </div>,\n",
       " <div class=\"col-3 nutrient_cell\">\n",
       "                                                     \n",
       "                                                         \n",
       "                                                             2\n",
       "                                                             g\n",
       "                                                         \n",
       "                                                     \n",
       "                                                 </div>,\n",
       " <div class=\"col-3 nutrient_cell\">\n",
       "                                                     \n",
       "                                                         \n",
       "                                                             2\n",
       "                                                             g\n",
       "                                                         \n",
       "                                                     \n",
       "                                                 </div>,\n",
       " <div class=\"col-3 nutrient_cell\">\n",
       "                                                     \n",
       "                                                         \n",
       "                                                             3.0\n",
       "                                                             g\n",
       "                                                         \n",
       "                                                     \n",
       "                                                 </div>,\n",
       " <div class=\"col-3 nutrient_cell\">\n",
       "                                                     \n",
       "                                                         \n",
       "                                                             2\n",
       "                                                             g\n",
       "                                                         \n",
       "                                                     \n",
       "                                                 </div>]"
      ]
     },
     "execution_count": 8,
     "metadata": {},
     "output_type": "execute_result"
    }
   ],
   "source": [
    "fiber[:5]"
   ]
  },
  {
   "cell_type": "code",
   "execution_count": 41,
   "id": "2849be44",
   "metadata": {},
   "outputs": [],
   "source": [
    "food_name = []\n",
    "for i in food:\n",
    "    food_name.append(i.text.strip())"
   ]
  },
  {
   "cell_type": "code",
   "execution_count": 42,
   "id": "d19e037a",
   "metadata": {},
   "outputs": [
    {
     "data": {
      "text/plain": [
       "20"
      ]
     },
     "execution_count": 42,
     "metadata": {},
     "output_type": "execute_result"
    }
   ],
   "source": [
    "len(food_name)"
   ]
  },
  {
   "cell_type": "code",
   "execution_count": 43,
   "id": "7363dcd7",
   "metadata": {},
   "outputs": [
    {
     "data": {
      "text/plain": [
       "['Indianlife, Chevdo',\n",
       " 'Naan',\n",
       " 'Papadums',\n",
       " 'Indianlife, Channadal',\n",
       " 'Indianlife, Garlic Naan',\n",
       " 'Indianlife, Masala Chips',\n",
       " 'Spicy Traditional Indian Crackers, Indian Puppodums',\n",
       " 'Indianlife, Whole Wheat Naan',\n",
       " 'Indianfile, Coriander & Herbs Naan',\n",
       " 'Indianlife, Hot Masala Peas',\n",
       " 'Tortilla',\n",
       " 'Samosa Chips',\n",
       " 'Indian Cooking Sauce',\n",
       " 'Masala Peas',\n",
       " 'Mattar Paneer, Indian',\n",
       " 'Tamarind Chutney',\n",
       " 'Indian Samosa Wrap',\n",
       " 'Authentic Indian Corn',\n",
       " 'Popcorn',\n",
       " 'Indian Daal']"
      ]
     },
     "execution_count": 43,
     "metadata": {},
     "output_type": "execute_result"
    }
   ],
   "source": [
    "food_name"
   ]
  },
  {
   "cell_type": "code",
   "execution_count": 44,
   "id": "85a28ff9",
   "metadata": {},
   "outputs": [],
   "source": [
    "calories = []\n",
    "for i in cal:\n",
    "    calories.append(i.text.strip())"
   ]
  },
  {
   "cell_type": "code",
   "execution_count": 45,
   "id": "0fd92664",
   "metadata": {},
   "outputs": [
    {
     "data": {
      "text/plain": [
       "20"
      ]
     },
     "execution_count": 45,
     "metadata": {},
     "output_type": "execute_result"
    }
   ],
   "source": [
    "len(calories)"
   ]
  },
  {
   "cell_type": "code",
   "execution_count": 46,
   "id": "84a640f3",
   "metadata": {},
   "outputs": [
    {
     "data": {
      "text/plain": [
       "['140', '160', '25', '150', '270', '180', '80', '260', '260', '140']"
      ]
     },
     "execution_count": 46,
     "metadata": {},
     "output_type": "execute_result"
    }
   ],
   "source": [
    "calories[:10]"
   ]
  },
  {
   "cell_type": "code",
   "execution_count": 60,
   "id": "5a85c530",
   "metadata": {},
   "outputs": [],
   "source": [
    "Carbs = []\n",
    "for i in carbs:\n",
    "    Carbs.append(i.text.strip())"
   ]
  },
  {
   "cell_type": "code",
   "execution_count": 61,
   "id": "88de226c",
   "metadata": {},
   "outputs": [
    {
     "data": {
      "text/plain": [
       "20"
      ]
     },
     "execution_count": 61,
     "metadata": {},
     "output_type": "execute_result"
    }
   ],
   "source": [
    "len(Carbs)"
   ]
  },
  {
   "cell_type": "code",
   "execution_count": 62,
   "id": "e450fc1f",
   "metadata": {},
   "outputs": [
    {
     "data": {
      "text/plain": [
       "['12.0\\n                                                        g',\n",
       " '24\\n                                                        g',\n",
       " '4\\n                                                        g',\n",
       " '11.0\\n                                                        g',\n",
       " '49\\n                                                        g',\n",
       " '15\\n                                                        g',\n",
       " '13.0\\n                                                        g',\n",
       " '45\\n                                                        g',\n",
       " '46\\n                                                        g',\n",
       " '4.0\\n                                                        g']"
      ]
     },
     "execution_count": 62,
     "metadata": {},
     "output_type": "execute_result"
    }
   ],
   "source": [
    "Carbs[:10]"
   ]
  },
  {
   "cell_type": "code",
   "execution_count": 84,
   "id": "319c0530",
   "metadata": {},
   "outputs": [],
   "source": [
    "for i in range(len(Carbs)):\n",
    "    Carbs[i] = Carbs[i].replace(' ', '')\n",
    "    Carbs[i] = Carbs[i].replace('g', '')\n",
    "    if '\\n' in Carbs[i]:\n",
    "        Carbs[i] = Carbs[i].replace('\\n', '')"
   ]
  },
  {
   "cell_type": "code",
   "execution_count": 85,
   "id": "85017c12",
   "metadata": {},
   "outputs": [
    {
     "data": {
      "text/plain": [
       "['12.0', '24', '4', '11.0', '49', '15', '13.0', '45', '46', '4.0']"
      ]
     },
     "execution_count": 85,
     "metadata": {},
     "output_type": "execute_result"
    }
   ],
   "source": [
    "Carbs[:10]"
   ]
  },
  {
   "cell_type": "code",
   "execution_count": 86,
   "id": "d61f86ac",
   "metadata": {},
   "outputs": [],
   "source": [
    "fats = []\n",
    "for i in fat:\n",
    "    fats.append(i.text.strip())"
   ]
  },
  {
   "cell_type": "code",
   "execution_count": 87,
   "id": "6a711470",
   "metadata": {},
   "outputs": [
    {
     "data": {
      "text/plain": [
       "20"
      ]
     },
     "execution_count": 87,
     "metadata": {},
     "output_type": "execute_result"
    }
   ],
   "source": [
    "len(fats)"
   ]
  },
  {
   "cell_type": "code",
   "execution_count": 88,
   "id": "3b79184a",
   "metadata": {},
   "outputs": [
    {
     "data": {
      "text/plain": [
       "['9.0\\n                                                        g',\n",
       " '4.5\\n                                                        g',\n",
       " '0\\n                                                        g',\n",
       " '11.0\\n                                                        g',\n",
       " '6\\n                                                        g']"
      ]
     },
     "execution_count": 88,
     "metadata": {},
     "output_type": "execute_result"
    }
   ],
   "source": [
    "fats[:5]"
   ]
  },
  {
   "cell_type": "code",
   "execution_count": 89,
   "id": "6ac28826",
   "metadata": {},
   "outputs": [],
   "source": [
    "for i in range(len(fats)):\n",
    "    fats[i] = fats[i].replace(' ', '')\n",
    "    fats[i] = fats[i].replace('g', '')\n",
    "    if '\\n' in fats[i]:\n",
    "        fats[i] = fats[i].replace('\\n', '')"
   ]
  },
  {
   "cell_type": "code",
   "execution_count": 90,
   "id": "971ae4b1",
   "metadata": {},
   "outputs": [
    {
     "data": {
      "text/plain": [
       "['9.0', '4.5', '0', '11.0', '6', '12', '0', '6', '5', '14']"
      ]
     },
     "execution_count": 90,
     "metadata": {},
     "output_type": "execute_result"
    }
   ],
   "source": [
    "fats[:10]"
   ]
  },
  {
   "cell_type": "code",
   "execution_count": 96,
   "id": "b6f02cd3",
   "metadata": {},
   "outputs": [],
   "source": [
    "proteins = []\n",
    "for i in protein:\n",
    "    proteins.append(i.text.strip())"
   ]
  },
  {
   "cell_type": "code",
   "execution_count": 97,
   "id": "1824062d",
   "metadata": {},
   "outputs": [
    {
     "data": {
      "text/plain": [
       "['4.0\\n                                                        g',\n",
       " '4\\n                                                        g',\n",
       " '2\\n                                                        g',\n",
       " '4.0\\n                                                        g',\n",
       " '7\\n                                                        g']"
      ]
     },
     "execution_count": 97,
     "metadata": {},
     "output_type": "execute_result"
    }
   ],
   "source": [
    "proteins[:5]"
   ]
  },
  {
   "cell_type": "code",
   "execution_count": 98,
   "id": "a83c2eaa",
   "metadata": {},
   "outputs": [],
   "source": [
    "for i in range(len(proteins)):\n",
    "    proteins[i] = proteins[i].replace(' ', '')\n",
    "    proteins[i] = proteins[i].replace('g', '')\n",
    "    if '\\n' in proteins[i]:\n",
    "        proteins[i] = proteins[i].replace('\\n', '')"
   ]
  },
  {
   "cell_type": "code",
   "execution_count": 99,
   "id": "cb684f5e",
   "metadata": {},
   "outputs": [
    {
     "data": {
      "text/plain": [
       "['4.0', '4', '2', '4.0', '7', '3', '6', '9', '7', '1.0']"
      ]
     },
     "execution_count": 99,
     "metadata": {},
     "output_type": "execute_result"
    }
   ],
   "source": [
    "proteins[:10]"
   ]
  },
  {
   "cell_type": "code",
   "execution_count": 9,
   "id": "0c0b2fb8",
   "metadata": {},
   "outputs": [],
   "source": [
    "fibers = []\n",
    "for i in fiber:\n",
    "    fibers.append(i.text.strip())"
   ]
  },
  {
   "cell_type": "code",
   "execution_count": 10,
   "id": "d9454435",
   "metadata": {
    "scrolled": true
   },
   "outputs": [
    {
     "data": {
      "text/plain": [
       "['2.0\\n                                                            g',\n",
       " '2\\n                                                            g',\n",
       " '2\\n                                                            g',\n",
       " '3.0\\n                                                            g',\n",
       " '2\\n                                                            g']"
      ]
     },
     "execution_count": 10,
     "metadata": {},
     "output_type": "execute_result"
    }
   ],
   "source": [
    "fibers[:5]"
   ]
  },
  {
   "cell_type": "code",
   "execution_count": 11,
   "id": "365e34f4",
   "metadata": {},
   "outputs": [],
   "source": [
    "for i in range(len(fibers)):\n",
    "    fibers[i] = fibers[i].replace(' ', '')\n",
    "    fibers[i] = fibers[i].replace('g', '')\n",
    "    if '\\n' in fibers[i]:\n",
    "        fibers[i] = fibers[i].replace('\\n', '')"
   ]
  },
  {
   "cell_type": "code",
   "execution_count": 12,
   "id": "ed10c1a3",
   "metadata": {
    "scrolled": true
   },
   "outputs": [
    {
     "data": {
      "text/plain": [
       "['2.0', '2', '2', '3.0', '2', '1', '4.0', '8', '2', '1.0']"
      ]
     },
     "execution_count": 12,
     "metadata": {},
     "output_type": "execute_result"
    }
   ],
   "source": [
    "fibers[:10]"
   ]
  },
  {
   "cell_type": "code",
   "execution_count": 95,
   "id": "c3318007",
   "metadata": {},
   "outputs": [],
   "source": [
    "import pandas as pd"
   ]
  },
  {
   "cell_type": "code",
   "execution_count": 100,
   "id": "63f22e81",
   "metadata": {},
   "outputs": [],
   "source": [
    "food_df = pd.DataFrame({'Name': food_name,\n",
    "                        'Calories': calories,\n",
    "                        'Carbs': Carbs,\n",
    "                        'Fat': fats,\n",
    "                        'Protein': proteins,\n",
    "                        'Fiber': fibers})"
   ]
  },
  {
   "cell_type": "code",
   "execution_count": 101,
   "id": "5a584b41",
   "metadata": {
    "scrolled": true
   },
   "outputs": [
    {
     "data": {
      "text/html": [
       "<div>\n",
       "<style scoped>\n",
       "    .dataframe tbody tr th:only-of-type {\n",
       "        vertical-align: middle;\n",
       "    }\n",
       "\n",
       "    .dataframe tbody tr th {\n",
       "        vertical-align: top;\n",
       "    }\n",
       "\n",
       "    .dataframe thead th {\n",
       "        text-align: right;\n",
       "    }\n",
       "</style>\n",
       "<table border=\"1\" class=\"dataframe\">\n",
       "  <thead>\n",
       "    <tr style=\"text-align: right;\">\n",
       "      <th></th>\n",
       "      <th>Name</th>\n",
       "      <th>Calories</th>\n",
       "      <th>Carbs</th>\n",
       "      <th>Fat</th>\n",
       "      <th>Protein</th>\n",
       "      <th>Fiber</th>\n",
       "    </tr>\n",
       "  </thead>\n",
       "  <tbody>\n",
       "    <tr>\n",
       "      <th>0</th>\n",
       "      <td>Indianlife, Chevdo</td>\n",
       "      <td>140</td>\n",
       "      <td>12.0</td>\n",
       "      <td>9.0</td>\n",
       "      <td>4.0</td>\n",
       "      <td>2.0</td>\n",
       "    </tr>\n",
       "    <tr>\n",
       "      <th>1</th>\n",
       "      <td>Naan</td>\n",
       "      <td>160</td>\n",
       "      <td>24</td>\n",
       "      <td>4.5</td>\n",
       "      <td>4</td>\n",
       "      <td>2</td>\n",
       "    </tr>\n",
       "    <tr>\n",
       "      <th>2</th>\n",
       "      <td>Papadums</td>\n",
       "      <td>25</td>\n",
       "      <td>4</td>\n",
       "      <td>0</td>\n",
       "      <td>2</td>\n",
       "      <td>2</td>\n",
       "    </tr>\n",
       "    <tr>\n",
       "      <th>3</th>\n",
       "      <td>Indianlife, Channadal</td>\n",
       "      <td>150</td>\n",
       "      <td>11.0</td>\n",
       "      <td>11.0</td>\n",
       "      <td>4.0</td>\n",
       "      <td>3.0</td>\n",
       "    </tr>\n",
       "    <tr>\n",
       "      <th>4</th>\n",
       "      <td>Indianlife, Garlic Naan</td>\n",
       "      <td>270</td>\n",
       "      <td>49</td>\n",
       "      <td>6</td>\n",
       "      <td>7</td>\n",
       "      <td>2</td>\n",
       "    </tr>\n",
       "  </tbody>\n",
       "</table>\n",
       "</div>"
      ],
      "text/plain": [
       "                      Name Calories Carbs   Fat Protein Fiber\n",
       "0       Indianlife, Chevdo      140  12.0   9.0     4.0   2.0\n",
       "1                     Naan      160    24   4.5       4     2\n",
       "2                 Papadums       25     4     0       2     2\n",
       "3    Indianlife, Channadal      150  11.0  11.0     4.0   3.0\n",
       "4  Indianlife, Garlic Naan      270    49     6       7     2"
      ]
     },
     "execution_count": 101,
     "metadata": {},
     "output_type": "execute_result"
    }
   ],
   "source": [
    "food_df.head()"
   ]
  },
  {
   "cell_type": "code",
   "execution_count": 102,
   "id": "392b14ea",
   "metadata": {},
   "outputs": [],
   "source": [
    "food_df.to_csv('food.csv', index=None)"
   ]
  },
  {
   "cell_type": "code",
   "execution_count": null,
   "id": "22c8e207",
   "metadata": {},
   "outputs": [],
   "source": []
  }
 ],
 "metadata": {
  "kernelspec": {
   "display_name": "Python 3 (ipykernel)",
   "language": "python",
   "name": "python3"
  },
  "language_info": {
   "codemirror_mode": {
    "name": "ipython",
    "version": 3
   },
   "file_extension": ".py",
   "mimetype": "text/x-python",
   "name": "python",
   "nbconvert_exporter": "python",
   "pygments_lexer": "ipython3",
   "version": "3.9.13"
  }
 },
 "nbformat": 4,
 "nbformat_minor": 5
}
